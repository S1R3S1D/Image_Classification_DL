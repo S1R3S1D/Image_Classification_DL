{
  "nbformat": 4,
  "nbformat_minor": 0,
  "metadata": {
    "colab": {
      "provenance": [],
      "collapsed_sections": [],
      "authorship_tag": "ABX9TyNA7oFqX3+tE/mx83vmfmOO",
      "include_colab_link": true
    },
    "kernelspec": {
      "name": "python3",
      "display_name": "Python 3"
    },
    "language_info": {
      "name": "python"
    },
    "accelerator": "GPU"
  },
  "cells": [
    {
      "cell_type": "markdown",
      "metadata": {
        "id": "view-in-github",
        "colab_type": "text"
      },
      "source": [
        "<a href=\"https://colab.research.google.com/github/S1R3S1D/Image_Classification_DL/blob/main/CIFAR10.ipynb\" target=\"_parent\"><img src=\"https://colab.research.google.com/assets/colab-badge.svg\" alt=\"Open In Colab\"/></a>"
      ]
    },
    {
      "cell_type": "code",
      "source": [
        "import torch\n",
        "import torchvision\n",
        "from torchvision import datasets, transforms\n",
        "import matplotlib.pyplot as plt\n",
        "from torch import nn, optim\n",
        "from tqdm import tqdm"
      ],
      "metadata": {
        "id": "yL4uXn-LiBHz"
      },
      "execution_count": 1,
      "outputs": []
    },
    {
      "cell_type": "code",
      "source": [
        "from torch._C import dtype\n",
        "train_data = datasets.CIFAR10('./data', True, download=True, transform=transforms.Compose([transforms.ToTensor(),\n",
        "                                                                                          transforms.Normalize((0.4914, 0.4822, 0.4465),\n",
        "                                                                                                               (0.2470, 0.2435, 0.2616))]),\n",
        "                              target_transform=lambda y: torch.zeros(10, dtype=torch.float).scatter(0, torch.tensor(y), value=1))\n",
        "test_data = datasets.CIFAR10('./data', False, download=True, transform=transforms.Compose([transforms.ToTensor()]),)\n",
        "\n",
        "train_loader = torch.utils.data.DataLoader(train_data, batch_size=64, shuffle=True)\n",
        "test_loader = torch.utils.data.DataLoader(test_data, batch_size=64)"
      ],
      "metadata": {
        "colab": {
          "base_uri": "https://localhost:8080/"
        },
        "id": "Rut3YYFvilVQ",
        "outputId": "bb653bac-ce50-40f1-ba4e-776b70fda319"
      },
      "execution_count": 23,
      "outputs": [
        {
          "output_type": "stream",
          "name": "stdout",
          "text": [
            "Files already downloaded and verified\n",
            "Files already downloaded and verified\n"
          ]
        }
      ]
    },
    {
      "cell_type": "code",
      "source": [],
      "metadata": {
        "id": "Q_8dKHSRKF5H"
      },
      "execution_count": null,
      "outputs": []
    },
    {
      "cell_type": "code",
      "source": [
        "class ConvNet(nn.Module):\n",
        "  def __init__(self):\n",
        "    super().__init__()\n",
        "\n",
        "    self.conv1    = nn.Conv2d(3, 16, 3, padding=1)\n",
        "    self.ac1      = nn.Tanh()\n",
        "    self.pool1    = nn.MaxPool2d(2)\n",
        "\n",
        "    self.conv2    = nn.Conv2d(16, 8, 3, padding=1)\n",
        "    self.ac2      = nn.Tanh()\n",
        "    self.pool2    = nn.MaxPool2d(2)\n",
        "\n",
        "    self.fc1      = nn.Linear(8*8*8, 1024)\n",
        "    self.ac3      = nn.Tanh()\n",
        "\n",
        "    self.fc2      = nn.Linear(1024, 10)\n",
        "    self.ac4      = nn.Softmax()\n",
        "  \n",
        "  def forward(self, x):\n",
        "    out   = self.pool1(self.ac1(self.conv1(x)))\n",
        "    out   = self.pool2(self.ac2(self.conv2(out)))\n",
        "    out   = out.view(-1, 8*8*8)\n",
        "    out   = self.ac3(self.fc1(out))\n",
        "    out   = self.fc2(out)\n",
        "    return out"
      ],
      "metadata": {
        "id": "OI4h_NcLpa4E"
      },
      "execution_count": 33,
      "outputs": []
    },
    {
      "cell_type": "code",
      "source": [
        "device = (torch.device('cuda') if torch.cuda.is_available() else torch.device('cpu'))\n",
        "print('Training on :', device)"
      ],
      "metadata": {
        "colab": {
          "base_uri": "https://localhost:8080/"
        },
        "id": "JctFwZasA086",
        "outputId": "bc657a4d-71ae-4f9f-d0c4-82bf370656d1"
      },
      "execution_count": 34,
      "outputs": [
        {
          "output_type": "stream",
          "name": "stdout",
          "text": [
            "Training on : cuda\n"
          ]
        }
      ]
    },
    {
      "cell_type": "code",
      "source": [
        "def training_loop(n_epochs, optimizer, model, loss_fn, train_loader):\n",
        "  for epoch in tqdm(range(n_epochs)):\n",
        "    losses = 0.0\n",
        "    for imgs, labels in train_loader:\n",
        "      imgs = imgs.to(device)\n",
        "      labels = labels.to(device)\n",
        "\n",
        "      outputs = model(imgs)\n",
        "\n",
        "      loss = loss_fn(outputs, labels)\n",
        "\n",
        "      optimizer.zero_grad()\n",
        "      loss.backward()\n",
        "      optimizer.step()\n",
        "\n",
        "      losses+=loss.item()\n",
        "\n",
        "    if(epoch==1 or (epoch+1)%10==0 ):\n",
        "      print('Epoch ', epoch, ' Loss : ', losses)"
      ],
      "metadata": {
        "id": "KJugcE3O_-P-"
      },
      "execution_count": 35,
      "outputs": []
    },
    {
      "cell_type": "code",
      "source": [
        "n_epochs = 100\n",
        "model = ConvNet().to(device)\n",
        "optimizer = torch.optim.SGD(model.parameters(), lr=0.01)\n",
        "loss_fn = nn.CrossEntropyLoss()\n",
        "\n",
        "training_loop(n_epochs, optimizer, model, loss_fn, train_loader)"
      ],
      "metadata": {
        "colab": {
          "base_uri": "https://localhost:8080/"
        },
        "id": "a0BVNa6UKu8c",
        "outputId": "39fa092d-d356-404d-9adc-5a918eca8c28"
      },
      "execution_count": 36,
      "outputs": [
        {
          "output_type": "stream",
          "name": "stderr",
          "text": [
            "  2%|▏         | 2/100 [00:25<20:57, 12.83s/it]"
          ]
        },
        {
          "output_type": "stream",
          "name": "stdout",
          "text": [
            "Epoch  1  Loss :  1262.9515316486359\n"
          ]
        },
        {
          "output_type": "stream",
          "name": "stderr",
          "text": [
            " 10%|█         | 10/100 [02:08<19:15, 12.83s/it]"
          ]
        },
        {
          "output_type": "stream",
          "name": "stdout",
          "text": [
            "Epoch  9  Loss :  898.2962037324905\n"
          ]
        },
        {
          "output_type": "stream",
          "name": "stderr",
          "text": [
            " 20%|██        | 20/100 [04:16<17:05, 12.82s/it]"
          ]
        },
        {
          "output_type": "stream",
          "name": "stdout",
          "text": [
            "Epoch  19  Loss :  772.220888197422\n"
          ]
        },
        {
          "output_type": "stream",
          "name": "stderr",
          "text": [
            " 30%|███       | 30/100 [06:25<15:02, 12.89s/it]"
          ]
        },
        {
          "output_type": "stream",
          "name": "stdout",
          "text": [
            "Epoch  29  Loss :  710.1245148181915\n"
          ]
        },
        {
          "output_type": "stream",
          "name": "stderr",
          "text": [
            " 40%|████      | 40/100 [08:33<12:51, 12.86s/it]"
          ]
        },
        {
          "output_type": "stream",
          "name": "stdout",
          "text": [
            "Epoch  39  Loss :  655.3256225287914\n"
          ]
        },
        {
          "output_type": "stream",
          "name": "stderr",
          "text": [
            " 50%|█████     | 50/100 [10:43<10:46, 12.94s/it]"
          ]
        },
        {
          "output_type": "stream",
          "name": "stdout",
          "text": [
            "Epoch  49  Loss :  601.0842610895634\n"
          ]
        },
        {
          "output_type": "stream",
          "name": "stderr",
          "text": [
            " 60%|██████    | 60/100 [12:51<08:36, 12.91s/it]"
          ]
        },
        {
          "output_type": "stream",
          "name": "stdout",
          "text": [
            "Epoch  59  Loss :  540.7488504350185\n"
          ]
        },
        {
          "output_type": "stream",
          "name": "stderr",
          "text": [
            " 70%|███████   | 70/100 [15:00<06:26, 12.89s/it]"
          ]
        },
        {
          "output_type": "stream",
          "name": "stdout",
          "text": [
            "Epoch  69  Loss :  473.45116725564003\n"
          ]
        },
        {
          "output_type": "stream",
          "name": "stderr",
          "text": [
            " 80%|████████  | 80/100 [17:08<04:16, 12.82s/it]"
          ]
        },
        {
          "output_type": "stream",
          "name": "stdout",
          "text": [
            "Epoch  79  Loss :  405.3643242716789\n"
          ]
        },
        {
          "output_type": "stream",
          "name": "stderr",
          "text": [
            " 90%|█████████ | 90/100 [19:17<02:08, 12.85s/it]"
          ]
        },
        {
          "output_type": "stream",
          "name": "stdout",
          "text": [
            "Epoch  89  Loss :  331.2527230232954\n"
          ]
        },
        {
          "output_type": "stream",
          "name": "stderr",
          "text": [
            "100%|██████████| 100/100 [21:26<00:00, 12.87s/it]"
          ]
        },
        {
          "output_type": "stream",
          "name": "stdout",
          "text": [
            "Epoch  99  Loss :  260.12037339806557\n"
          ]
        },
        {
          "output_type": "stream",
          "name": "stderr",
          "text": [
            "\n"
          ]
        }
      ]
    },
    {
      "cell_type": "code",
      "source": [
        "#Validation\n",
        "\n",
        "def validation_loop(test_loader, model):\n",
        "  done = 0\n",
        "  with torch.no_grad():\n",
        "    tot = 0\n",
        "    for imgs, labels in test_loader:\n",
        "      imgs = imgs.to(device)\n",
        "      outputs = model(imgs)\n",
        "      \n",
        "      \n",
        "      for i in range(outputs.shape[0]):\n",
        "        tot=tot+1\n",
        "        if(torch.argmax(outputs[i]).item()==labels[i]):\n",
        "          done=done+1\n",
        "  accuracy = done/tot * 100\n",
        "  print('Accuracy :', accuracy, '% over', tot, 'images')\n"
      ],
      "metadata": {
        "id": "zpiH4n1UAOJf"
      },
      "execution_count": 42,
      "outputs": []
    },
    {
      "cell_type": "code",
      "source": [
        "validation_loop(test_loader, model)"
      ],
      "metadata": {
        "colab": {
          "base_uri": "https://localhost:8080/"
        },
        "id": "ZXmR3pSZI3oX",
        "outputId": "8461ea6b-de13-49da-c223-ec2a6099eb12"
      },
      "execution_count": 43,
      "outputs": [
        {
          "output_type": "stream",
          "name": "stdout",
          "text": [
            "Accuracy : 24.43 % over 10000 images\n"
          ]
        }
      ]
    },
    {
      "cell_type": "code",
      "source": [],
      "metadata": {
        "id": "vD2YIS2zI7Fq"
      },
      "execution_count": null,
      "outputs": []
    }
  ]
}